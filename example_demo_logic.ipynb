{
 "cells": [
  {
   "cell_type": "code",
   "execution_count": 1,
   "metadata": {},
   "outputs": [],
   "source": [
    "import demo_logic"
   ]
  },
  {
   "cell_type": "code",
   "execution_count": 2,
   "metadata": {},
   "outputs": [
    {
     "name": "stdout",
     "output_type": "stream",
     "text": [
      "\n",
      "===== Demonstrating Gameplay =====\n",
      "\n",
      "🎮 Player selects FOOD category:\n"
     ]
    },
    {
     "name": "stdout",
     "output_type": "stream",
     "text": [
      " \n"
     ]
    },
    {
     "name": "stdout",
     "output_type": "stream",
     "text": [
      "category = food\n",
      "data=[{'swedish': 'äpple', 'english': 'apple', 'hints': ['Fruit', 'Red or green', 'Grows on trees']}, {'swedish': 'bröd', 'english': 'bread', 'hints': ['Baked dough', 'Basic staple', 'Sliced or loaf']}, {'swedish': 'spenat', 'english': 'spinach', 'hints': ['Leafy green', 'Rich in iron', 'Used in salads']}, {'swedish': 'mjölk', 'english': 'milk', 'hints': ['Dairy product', 'White color', 'From cows']}, {'swedish': 'banan', 'english': 'banana', 'hints': ['Tropical fruit', 'Yellow peel', 'Rich in potassium']}, {'swedish': 'gurka', 'english': 'cucumber', 'hints': ['Green vegetable', 'High water content', 'Salad ingredient']}, {'swedish': 'bröd', 'english': 'bread', 'hints': ['Baked dough', 'Basic staple', 'Sliced or loaf']}, {'swedish': 'citron', 'english': 'lemon', 'hints': ['Citrus fruit', 'Yellow peel', 'Sour taste']}, {'swedish': 'apelsin', 'english': 'orange', 'hints': ['Citrus fruit', 'Orange peel', 'Rich in vitamin C']}, {'swedish': 'banan', 'english': 'banana', 'hints': ['Tropical fruit', 'Yellow peel', 'Rich in potassium']}, {'swedish': 'paprika', 'english': 'bell pepper', 'hints': ['Vegetable', 'Red, green, or yellow', 'Sweet taste']}, {'swedish': 'broccoli', 'english': 'broccoli', 'hints': ['Green vegetable', 'Tree-like shape', 'Rich in vitamins']}, {'swedish': 'potatis', 'english': 'potato', 'hints': ['Root vegetable', 'Starchy', 'Common in Sweden']}, {'swedish': 'päron', 'english': 'pear', 'hints': ['Fruit', 'Green or yellow', 'Sweet and juicy']}, {'swedish': 'smör', 'english': 'butter', 'hints': ['Made from cream', 'Spread on bread', 'Yellowish color']}, {'swedish': 'jordgubbe', 'english': 'strawberry', 'hints': ['Berry', 'Red and sweet', 'Grows in summer']}, {'swedish': 'äpple', 'english': 'apple', 'hints': ['Fruit', 'Red or green', 'Grows on trees']}, {'swedish': 'tomat', 'english': 'tomato', 'hints': ['Red fruit', 'Used in salads', 'Botanically a fruit']}, {'swedish': 'gurka', 'english': 'cucumber', 'hints': ['Green vegetable', 'High water content', 'Salad ingredient']}, {'swedish': 'vindruvor', 'english': 'grapes', 'hints': ['Small fruit', 'Green or purple', 'Grows in clusters']}]\n",
      "get_lists return hints: [['Fruit', 'Red or green', 'Grows on trees'], ['Baked dough', 'Basic staple', 'Sliced or loaf'], ['Leafy green', 'Rich in iron', 'Used in salads'], ['Dairy product', 'White color', 'From cows'], ['Tropical fruit', 'Yellow peel', 'Rich in potassium'], ['Green vegetable', 'High water content', 'Salad ingredient'], ['Baked dough', 'Basic staple', 'Sliced or loaf'], ['Citrus fruit', 'Yellow peel', 'Sour taste'], ['Citrus fruit', 'Orange peel', 'Rich in vitamin C'], ['Tropical fruit', 'Yellow peel', 'Rich in potassium'], ['Vegetable', 'Red, green, or yellow', 'Sweet taste'], ['Green vegetable', 'Tree-like shape', 'Rich in vitamins'], ['Root vegetable', 'Starchy', 'Common in Sweden'], ['Fruit', 'Green or yellow', 'Sweet and juicy'], ['Made from cream', 'Spread on bread', 'Yellowish color'], ['Berry', 'Red and sweet', 'Grows in summer'], ['Fruit', 'Red or green', 'Grows on trees'], ['Red fruit', 'Used in salads', 'Botanically a fruit'], ['Green vegetable', 'High water content', 'Salad ingredient'], ['Small fruit', 'Green or purple', 'Grows in clusters']], sv_words_ ['äpple', 'bröd', 'spenat', 'mjölk', 'banan', 'gurka', 'bröd', 'citron', 'apelsin', 'banan', 'paprika', 'broccoli', 'potatis', 'päron', 'smör', 'jordgubbe', 'äpple', 'tomat', 'gurka', 'vindruvor']\n",
      "20\n",
      "map={'äpple': 'apple', 'bröd': 'bread', 'spenat': 'spinach', 'mjölk': 'milk', 'banan': 'banana', 'gurka': 'cucumber', 'citron': 'lemon', 'apelsin': 'orange', 'paprika': 'bell pepper', 'broccoli': 'broccoli', 'potatis': 'potato', 'päron': 'pear', 'smör': 'butter', 'jordgubbe': 'strawberry', 'tomat': 'tomato', 'vindruvor': 'grapes'}\n",
      "{'ÄPPLE': [(18, 13), (18, 14), (18, 15), (18, 16), (18, 17)], 'BRÖD': [(7, 16), (6, 17), (5, 18), (4, 19)], 'SPENAT': [(14, 1), (13, 2), (12, 3), (11, 4), (10, 5), (9, 6)], 'MJÖLK': [(4, 1), (5, 2), (6, 3), (7, 4), (8, 5)], 'BANAN': [(3, 9), (3, 8), (3, 7), (3, 6), (3, 5)], 'GURKA': [(10, 13), (11, 12), (12, 11), (13, 10), (14, 9)], 'CITRON': [(1, 5), (2, 4), (3, 3), (4, 2), (5, 1), (6, 0)], 'APELSIN': [(8, 16), (8, 15), (8, 14), (8, 13), (8, 12), (8, 11), (8, 10)], 'PAPRIKA': [(1, 2), (2, 3), (3, 4), (4, 5), (5, 6), (6, 7), (7, 8)], 'BROCCOLI': [(17, 18), (17, 17), (17, 16), (17, 15), (17, 14), (17, 13), (17, 12), (17, 11)], 'POTATIS': [(17, 2), (17, 3), (17, 4), (17, 5), (17, 6), (17, 7), (17, 8)], 'PÄRON': [(12, 13), (12, 12), (12, 11), (12, 10), (12, 9)], 'SMÖR': [(13, 12), (14, 12), (15, 12), (16, 12)], 'JORDGUBBE': [(8, 7), (9, 7), (10, 7), (11, 7), (12, 7), (13, 7), (14, 7), (15, 7), (16, 7)], 'TOMAT': [(4, 15), (3, 16), (2, 17), (1, 18), (0, 19)], 'VINDRUVOR': [(12, 0), (11, 1), (10, 2), (9, 3), (8, 4), (7, 5), (6, 6), (5, 7), (4, 8)]}\n"
     ]
    },
    {
     "name": "stdout",
     "output_type": "stream",
     "text": [
      " \n"
     ]
    },
    {
     "name": "stdout",
     "output_type": "stream",
     "text": [
      "\n",
      "🎮 Game starts with the following grid (includes words from FOOD category):\n",
      "\n",
      "['X', 'D', 'H', 'Q', 'S', 'W', 'P', 'Z', 'J', 'C', 'J', 'P', 'L', 'K', 'F', 'K', 'L', 'B', 'D', 'T']\n",
      "['U', 'G', 'P', 'D', 'B', 'C', 'X', 'D', 'I', 'Q', 'F', 'W', 'U', 'B', 'R', 'Ö', 'D', 'W', 'A', 'P']\n",
      "['N', 'O', 'J', 'A', 'I', 'W', 'R', 'B', 'T', 'H', 'B', 'A', 'W', 'H', 'P', 'D', 'P', 'M', 'S', 'O']\n",
      "['U', 'I', 'O', 'T', 'P', 'N', 'A', 'N', 'A', 'B', 'U', 'Y', 'Y', 'X', 'M', 'J', 'O', 'C', 'I', 'K']\n",
      "['R', 'M', 'R', 'M', 'V', 'R', 'B', 'R', 'R', 'V', 'Z', 'L', 'C', 'G', 'V', 'T', 'G', 'A', 'E', 'D']\n",
      "['N', 'O', 'J', 'Q', 'P', 'S', 'I', 'O', 'Z', 'J', 'W', 'D', 'L', 'H', 'H', 'H', 'S', 'C', 'Ö', 'R']\n",
      "['N', 'N', 'T', 'Ö', 'P', 'C', 'V', 'K', 'I', 'X', 'H', 'N', 'E', 'Z', 'S', 'Z', 'P', 'R', 'O', 'L']\n",
      "['Z', 'P', 'F', 'M', 'L', 'U', 'E', 'T', 'A', 'C', 'A', 'X', 'T', 'D', 'H', 'W', 'B', 'H', 'G', 'B']\n",
      "['S', 'V', 'X', 'C', 'R', 'K', 'Z', 'J', 'C', 'Q', 'N', 'I', 'S', 'L', 'E', 'P', 'A', 'G', 'A', 'F']\n",
      "['P', 'N', 'G', 'D', 'X', 'U', 'T', 'O', 'W', 'F', 'W', 'K', 'A', 'K', 'K', 'N', 'S', 'N', 'Z', 'K']\n",
      "['K', 'O', 'N', 'Q', 'E', 'A', 'Q', 'R', 'O', 'X', 'V', 'Q', 'G', 'G', 'N', 'Y', 'A', 'W', 'V', 'U']\n",
      "['Y', 'I', 'Q', 'L', 'N', 'A', 'P', 'D', 'V', 'H', 'A', 'D', 'U', 'K', 'Z', 'N', 'R', 'X', 'U', 'O']\n",
      "['V', 'L', 'P', 'E', 'Q', 'K', 'E', 'G', 'O', 'N', 'O', 'R', 'Ä', 'P', 'A', 'Y', 'E', 'G', 'D', 'P']\n",
      "['Q', 'P', 'P', 'Y', 'N', 'R', 'X', 'U', 'L', 'R', 'K', 'N', 'S', 'Y', 'B', 'A', 'F', 'O', 'S', 'Z']\n",
      "['Ä', 'S', 'I', 'V', 'A', 'U', 'L', 'B', 'X', 'A', 'Y', 'C', 'M', 'V', 'E', 'S', 'M', 'X', 'Y', 'X']\n",
      "['P', 'O', 'S', 'S', 'S', 'G', 'D', 'B', 'J', 'A', 'A', 'S', 'Ö', 'I', 'S', 'E', 'M', 'Q', 'U', 'V']\n",
      "['B', 'Q', 'A', 'A', 'Q', 'R', 'C', 'E', 'O', 'I', 'N', 'X', 'R', 'Z', 'O', 'J', 'M', 'C', 'N', 'H']\n",
      "['B', 'O', 'P', 'O', 'T', 'A', 'T', 'I', 'S', 'H', 'F', 'I', 'L', 'O', 'C', 'C', 'O', 'R', 'B', 'S']\n",
      "['G', 'Q', 'K', 'S', 'U', 'E', 'E', 'P', 'Y', 'H', 'W', 'V', 'H', 'Ä', 'P', 'P', 'L', 'E', 'P', 'T']\n",
      "['V', 'U', 'C', 'N', 'C', 'R', 'P', 'X', 'S', 'A', 'N', 'D', 'L', 'I', 'Z', 'A', 'J', 'P', 'I', 'D']\n",
      "\n",
      "🎮 Player initial stats:\n",
      "HP = 3\n",
      "Hints left = 3\n",
      "\n",
      "🎮 Player makes a wrong move:\n"
     ]
    },
    {
     "name": "stdout",
     "output_type": "stream",
     "text": [
      " \n"
     ]
    },
    {
     "name": "stdout",
     "output_type": "stream",
     "text": [
      "❌ HP after wrong move: 2\n",
      "\n",
      "💡 Player requests hints:\n"
     ]
    },
    {
     "name": "stdout",
     "output_type": "stream",
     "text": [
      " \n"
     ]
    },
    {
     "name": "stdout",
     "output_type": "stream",
     "text": [
      "Hint: (True, ['Green vegetable', 'Tree-like shape', 'Rich in vitamins'])\n",
      "Hints left: 2\n"
     ]
    },
    {
     "name": "stdout",
     "output_type": "stream",
     "text": [
      " \n"
     ]
    },
    {
     "name": "stdout",
     "output_type": "stream",
     "text": [
      "Hint: (True, ['Green vegetable', 'High water content', 'Salad ingredient'])\n",
      "Hints left: 1\n"
     ]
    },
    {
     "name": "stdout",
     "output_type": "stream",
     "text": [
      " \n"
     ]
    },
    {
     "name": "stdout",
     "output_type": "stream",
     "text": [
      "Hint: (True, ['Made from cream', 'Spread on bread', 'Yellowish color'])\n",
      "Hints left: 0\n"
     ]
    },
    {
     "name": "stdout",
     "output_type": "stream",
     "text": [
      " \n"
     ]
    },
    {
     "name": "stdout",
     "output_type": "stream",
     "text": [
      "Hint: (False, [])\n",
      "Hints left: 0\n",
      "\n",
      "✅ Player makes a correct move:\n"
     ]
    },
    {
     "name": "stdout",
     "output_type": "stream",
     "text": [
      " \n"
     ]
    },
    {
     "name": "stdout",
     "output_type": "stream",
     "text": [
      "HP after the move: 2\n"
     ]
    },
    {
     "name": "stdout",
     "output_type": "stream",
     "text": [
      " \n"
     ]
    },
    {
     "name": "stdout",
     "output_type": "stream",
     "text": [
      "\n",
      "☠️ Simulating Game Over:\n",
      "\n",
      "🎮 Player makes a second wrong move:\n"
     ]
    },
    {
     "name": "stdout",
     "output_type": "stream",
     "text": [
      " \n"
     ]
    },
    {
     "name": "stdout",
     "output_type": "stream",
     "text": [
      "❌ HP after second wrong move: 1\n",
      "\n",
      "🎮 Player makes a third wrong move:\n"
     ]
    },
    {
     "name": "stdout",
     "output_type": "stream",
     "text": [
      " \n"
     ]
    },
    {
     "name": "stdout",
     "output_type": "stream",
     "text": [
      "❌ HP after third wrong move: 0\n",
      "\n",
      "Game Over: True\n"
     ]
    }
   ],
   "source": [
    "demo_logic.demo_gameplay()"
   ]
  },
  {
   "cell_type": "code",
   "execution_count": null,
   "metadata": {},
   "outputs": [],
   "source": []
  }
 ],
 "metadata": {
  "kernelspec": {
   "display_name": "Python 3",
   "language": "python",
   "name": "python3"
  },
  "language_info": {
   "codemirror_mode": {
    "name": "ipython",
    "version": 3
   },
   "file_extension": ".py",
   "mimetype": "text/x-python",
   "name": "python",
   "nbconvert_exporter": "python",
   "pygments_lexer": "ipython3",
   "version": "3.13.1"
  }
 },
 "nbformat": 4,
 "nbformat_minor": 4
}
